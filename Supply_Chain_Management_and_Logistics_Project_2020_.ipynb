{
  "nbformat": 4,
  "nbformat_minor": 0,
  "metadata": {
    "kernelspec": {
      "display_name": "Python 3",
      "language": "python",
      "name": "python3"
    },
    "language_info": {
      "codemirror_mode": {
        "name": "ipython",
        "version": 3
      },
      "file_extension": ".py",
      "mimetype": "text/x-python",
      "name": "python",
      "nbconvert_exporter": "python",
      "pygments_lexer": "ipython3",
      "version": "3.7.6"
    },
    "colab": {
      "name": "Supply Chain Management and Logistics Project 2020 .ipynb",
      "provenance": [],
      "toc_visible": true
    }
  },
  "cells": [
    {
      "cell_type": "markdown",
      "metadata": {
        "id": "Uh0kzgLy5DEP"
      },
      "source": [
        "#METHOD 1\n",
        "\n",
        "Triple Exponential Smoothing (Holt’s Winter Method)\n",
        "\n",
        "Holt’s Winter Method also known as Triple Exponential Smoothing is applied when there is Non-Linear Seasonality. It applies the exponential smoothing to that seasonal components in addition to trend and level. A complete cycle of seasons sums up to 1 year including summer, fall, winter and spring. So it might happen that not always all the seasons have the same duration. This means winter lasts for a longer duration and summer can be smaller, but the temperature within that cycle follows a specific pattern i.e. they are repeating. So, it is used when there is no clear pattern identified in the Time Series. The seasonal factor is taken based on how the data repeats itself. Triple exponential is just like exponential Smoothing with an extra parameter added for the seasonality of time series.  So the three equations included in triple exponential smoothing.\n",
        "The terms which are associated with Triple exponential smoothing are:\n",
        "\n",
        "   1)Season: When a series seems to be repeating after a regular interval, then the interval is known as season and the series is said to be seasonal.\n",
        "    \n",
        "   2)Seasonal Length: It is defined as the number of data points in each season.\n",
        "Seasonal Component:  It can be identified as an additional deviation from series and trend which repeats in each season. There is one seasonal component for each data point in the season.\n",
        "\n",
        "   3)Seasonal Component:  It can be identified as an additional deviation from series and trend which repeats in each season. There is one seasonal component for each data point in the season.\n",
        "    \n",
        "   a)Series: The Smoothing factor is \"α\" : The first equation holds true for the current time period, and is a weighted average of the current data value divided by the seasonal factor and the average from the last period adjusted for the trend for the previous period. \n",
        "\n",
        "   \"S\" _\"t \"  \"= α\" (\"D\" _\"t\" ¦\"C\" _\"t-N\"  )\"+\" (\"1-α\" )(\"S\" _\"t-1 \"  \"-\" \"G\" _\"t-1 \"  )\n",
        "\n",
        "   b)Linear Trend:  The smoothing factor is \"β\" . The second equation is the calculated trend value and can be obtained using weighted average of the difference between current average and previous average and the trend for the previous time period. \n",
        "\n",
        "   G_\"t \"  \"= β\" (\"S\" _\"t \"  \"-\" S_\"t-1 \"  )\"+\" (\"1-β\" )(\"G\" _\"t-1 \"  )\n",
        "\n",
        "   c)Seasonality: The smoothing factor is \"γ\" .  The third equation is the calculated seasonal index, and is the weighted average of the seasonal index from the last period and the current data value divided by the current season average.\n",
        "   \n",
        "   \"C\" _\"t \"  \"= γ\" (\"D\" _\"t\" ¦S_\"t\"  )\"+(1-γ)\" (\"C\" _\"t-N \"  )\n",
        "\n",
        "where;\n",
        "\n",
        "Alpha: Smoothing factor for the Series.\n",
        "Beta: Smoothing factor for the Trend.\n",
        "Gamma: Smoothing factor for the seasonality.\n",
        "\"C\" _\"t \" : Seasonal Factor\n",
        "\"S\" _\"t \"∶  Estimate of the customer demand in next period.\n",
        "\n",
        "As our data shows seasonality this method is best for forecasting. The link between the client and therefore the order placed by the client in monthly has no clear pattern, but we have a cycle of a continuing one month therefore the seasonality remains non-linear but the duration for every cycle remains constant(1 month). Here prediction of order quantity depends on the client and material which they order on a date. Therefore, we want to think about the seasonality and trend and do exponential smoothing. As we analyze the expected values, we will see that by applying the proper trend and seasonality we retrieve solutions. Also, the basics mean the squared error is employed because it defines the accuracy of the forecasted values.\n",
        "\n",
        "\n"
      ]
    },
    {
      "cell_type": "code",
      "metadata": {
        "id": "o9y9-4RJ5DER"
      },
      "source": [
        "#Importing all the required libraries for Forecasting the given-data\n",
        "import pandas as pd  \n",
        "import numpy as np\n",
        "import matplotlib.pyplot as plt\n",
        "import warnings\n",
        "warnings.filterwarnings('ignore')"
      ],
      "execution_count": null,
      "outputs": []
    },
    {
      "cell_type": "code",
      "metadata": {
        "id": "LBP2scFJ5DES"
      },
      "source": [
        "from sklearn.metrics import mean_squared_error #To find the accuracy of the forecast\n",
        "from math import sqrt                          #To find the accuracy of the forecast\n",
        "from matplotlib.pylab import rcParams\n",
        "rcParams['figure.figsize'] = 16,10"
      ],
      "execution_count": null,
      "outputs": []
    },
    {
      "cell_type": "code",
      "metadata": {
        "id": "Yd6pKtwX5DET"
      },
      "source": [
        "#Calling the given-data (.csv format)\n",
        "data = pd.read_csv(\"APS1017 Order data for Project1.csv\", parse_dates=['Date'], infer_datetime_format = True)"
      ],
      "execution_count": null,
      "outputs": []
    },
    {
      "cell_type": "code",
      "metadata": {
        "id": "5N_IwFcj5DEU",
        "outputId": "bea1ef5b-0917-4544-86ea-a06682fa4331"
      },
      "source": [
        "#Removing the duplicate data\n",
        "data[data.duplicated()]"
      ],
      "execution_count": null,
      "outputs": [
        {
          "output_type": "execute_result",
          "data": {
            "text/html": [
              "<div>\n",
              "<style scoped>\n",
              "    .dataframe tbody tr th:only-of-type {\n",
              "        vertical-align: middle;\n",
              "    }\n",
              "\n",
              "    .dataframe tbody tr th {\n",
              "        vertical-align: top;\n",
              "    }\n",
              "\n",
              "    .dataframe thead th {\n",
              "        text-align: right;\n",
              "    }\n",
              "</style>\n",
              "<table border=\"1\" class=\"dataframe\">\n",
              "  <thead>\n",
              "    <tr style=\"text-align: right;\">\n",
              "      <th></th>\n",
              "      <th>Date</th>\n",
              "      <th>Client</th>\n",
              "      <th>Order_Quantity</th>\n",
              "      <th>Material</th>\n",
              "    </tr>\n",
              "  </thead>\n",
              "  <tbody>\n",
              "    <tr>\n",
              "      <th>59</th>\n",
              "      <td>2019-12-05</td>\n",
              "      <td>c7</td>\n",
              "      <td>120</td>\n",
              "      <td>12222902</td>\n",
              "    </tr>\n",
              "    <tr>\n",
              "      <th>82</th>\n",
              "      <td>2019-12-10</td>\n",
              "      <td>c4</td>\n",
              "      <td>112</td>\n",
              "      <td>12396696</td>\n",
              "    </tr>\n",
              "    <tr>\n",
              "      <th>139</th>\n",
              "      <td>2019-12-19</td>\n",
              "      <td>c3</td>\n",
              "      <td>48</td>\n",
              "      <td>12222902</td>\n",
              "    </tr>\n",
              "    <tr>\n",
              "      <th>149</th>\n",
              "      <td>2019-12-19</td>\n",
              "      <td>c5</td>\n",
              "      <td>210</td>\n",
              "      <td>12322779</td>\n",
              "    </tr>\n",
              "    <tr>\n",
              "      <th>158</th>\n",
              "      <td>2019-12-21</td>\n",
              "      <td>c4</td>\n",
              "      <td>252</td>\n",
              "      <td>12321895</td>\n",
              "    </tr>\n",
              "    <tr>\n",
              "      <th>...</th>\n",
              "      <td>...</td>\n",
              "      <td>...</td>\n",
              "      <td>...</td>\n",
              "      <td>...</td>\n",
              "    </tr>\n",
              "    <tr>\n",
              "      <th>2722</th>\n",
              "      <td>2020-02-21</td>\n",
              "      <td>c1</td>\n",
              "      <td>104</td>\n",
              "      <td>12246740</td>\n",
              "    </tr>\n",
              "    <tr>\n",
              "      <th>2728</th>\n",
              "      <td>2020-02-21</td>\n",
              "      <td>c3</td>\n",
              "      <td>96</td>\n",
              "      <td>12222902</td>\n",
              "    </tr>\n",
              "    <tr>\n",
              "      <th>2729</th>\n",
              "      <td>2020-02-21</td>\n",
              "      <td>c4</td>\n",
              "      <td>28</td>\n",
              "      <td>12396696</td>\n",
              "    </tr>\n",
              "    <tr>\n",
              "      <th>2731</th>\n",
              "      <td>2020-02-21</td>\n",
              "      <td>c2</td>\n",
              "      <td>42</td>\n",
              "      <td>12395525</td>\n",
              "    </tr>\n",
              "    <tr>\n",
              "      <th>2759</th>\n",
              "      <td>2020-02-24</td>\n",
              "      <td>c1</td>\n",
              "      <td>126</td>\n",
              "      <td>11001186</td>\n",
              "    </tr>\n",
              "  </tbody>\n",
              "</table>\n",
              "<p>325 rows × 4 columns</p>\n",
              "</div>"
            ],
            "text/plain": [
              "           Date Client  Order_Quantity  Material\n",
              "59   2019-12-05     c7             120  12222902\n",
              "82   2019-12-10     c4             112  12396696\n",
              "139  2019-12-19     c3              48  12222902\n",
              "149  2019-12-19     c5             210  12322779\n",
              "158  2019-12-21     c4             252  12321895\n",
              "...         ...    ...             ...       ...\n",
              "2722 2020-02-21     c1             104  12246740\n",
              "2728 2020-02-21     c3              96  12222902\n",
              "2729 2020-02-21     c4              28  12396696\n",
              "2731 2020-02-21     c2              42  12395525\n",
              "2759 2020-02-24     c1             126  11001186\n",
              "\n",
              "[325 rows x 4 columns]"
            ]
          },
          "metadata": {
            "tags": []
          },
          "execution_count": 4
        }
      ]
    },
    {
      "cell_type": "code",
      "metadata": {
        "id": "Gqf3ILfB5DEV",
        "outputId": "0386f65a-b2e6-4d93-a1f9-b6adbdadfd61"
      },
      "source": [
        "data.drop_duplicates(keep=\"first\",inplace=True) \n",
        "data.shape"
      ],
      "execution_count": null,
      "outputs": [
        {
          "output_type": "execute_result",
          "data": {
            "text/plain": [
              "(2448, 4)"
            ]
          },
          "metadata": {
            "tags": []
          },
          "execution_count": 5
        }
      ]
    },
    {
      "cell_type": "code",
      "metadata": {
        "id": "AT9MTkZb5DEW",
        "outputId": "2e5ca91e-5dca-4b82-ae1e-608d3fa3948e"
      },
      "source": [
        "#Printing head\n",
        "print(data.head())"
      ],
      "execution_count": null,
      "outputs": [
        {
          "output_type": "stream",
          "text": [
            "        Date Client  Order_Quantity  Material\n",
            "0 2020-01-27     c9           11712  12293768\n",
            "1 2020-01-15     c9            6895  12246740\n",
            "2 2020-01-29     c4             504  12321896\n",
            "3 2019-12-18     c3             189  12042081\n",
            "4 2019-12-18     c3             110  11000851\n"
          ],
          "name": "stdout"
        }
      ]
    },
    {
      "cell_type": "code",
      "metadata": {
        "id": "w1jl_Nn75DEX",
        "outputId": "1d83c3eb-c49d-418a-d408-16e5f92f6603"
      },
      "source": [
        "#Printing tail\n",
        "print(data.tail())"
      ],
      "execution_count": null,
      "outputs": [
        {
          "output_type": "stream",
          "text": [
            "           Date Client  Order_Quantity  Material\n",
            "2768 2020-02-24     c2             240  12222902\n",
            "2769 2020-02-24     c1             168  12395525\n",
            "2770 2020-02-24     c1              66  12271469\n",
            "2771 2020-02-24     c1             540  12293783\n",
            "2772 2020-02-24     c1              35  12404641\n"
          ],
          "name": "stdout"
        }
      ]
    },
    {
      "cell_type": "code",
      "metadata": {
        "id": "P7FY7wYc5DEY"
      },
      "source": [
        "#Creating train and test set \n",
        "\n",
        "train=data[0:1958]   #Train is assumed to be 80% of the given data\n",
        "test=data[1958:2448] #Test is assumed to be 20% of the given data"
      ],
      "execution_count": null,
      "outputs": []
    },
    {
      "cell_type": "code",
      "metadata": {
        "id": "y28o05h05DEY",
        "outputId": "d4ba09e2-9ae0-4085-9b27-280bd0f8ce99"
      },
      "source": [
        "#Printing dates to visualize the sorting of the given-data\n",
        "data[\"Date\"]"
      ],
      "execution_count": null,
      "outputs": [
        {
          "output_type": "execute_result",
          "data": {
            "text/plain": [
              "0      2020-01-27\n",
              "1      2020-01-15\n",
              "2      2020-01-29\n",
              "3      2019-12-18\n",
              "4      2019-12-18\n",
              "          ...    \n",
              "2768   2020-02-24\n",
              "2769   2020-02-24\n",
              "2770   2020-02-24\n",
              "2771   2020-02-24\n",
              "2772   2020-02-24\n",
              "Name: Date, Length: 2448, dtype: datetime64[ns]"
            ]
          },
          "metadata": {
            "tags": []
          },
          "execution_count": 9
        }
      ]
    },
    {
      "cell_type": "code",
      "metadata": {
        "id": "atkABY_x5DEZ",
        "outputId": "e4f0c8d3-33cf-4b60-e182-cc899e3250fe"
      },
      "source": [
        "#Printing the train values\n",
        "train=data[0:1958]\n",
        "print(train)"
      ],
      "execution_count": null,
      "outputs": [
        {
          "output_type": "stream",
          "text": [
            "           Date Client  Order_Quantity  Material\n",
            "0    2020-01-27     c9           11712  12293768\n",
            "1    2020-01-15     c9            6895  12246740\n",
            "2    2020-01-29     c4             504  12321896\n",
            "3    2019-12-18     c3             189  12042081\n",
            "4    2019-12-18     c3             110  11000851\n",
            "...         ...    ...             ...       ...\n",
            "2217 2020-02-10     c6              21  12042081\n",
            "2218 2020-02-10     c6              48  12222902\n",
            "2219 2020-02-10     c6              42  11001186\n",
            "2220 2020-02-10     c6              22  11000851\n",
            "2221 2020-02-10     c3             220  12320618\n",
            "\n",
            "[1958 rows x 4 columns]\n"
          ],
          "name": "stdout"
        }
      ]
    },
    {
      "cell_type": "code",
      "metadata": {
        "id": "9y1rZ5aa5DEZ",
        "outputId": "3d78aa58-131c-42b1-93f1-7c1d3d8dbe83"
      },
      "source": [
        "#Printing the test values\n",
        "test=data[1958:2448]\n",
        "print(test)"
      ],
      "execution_count": null,
      "outputs": [
        {
          "output_type": "stream",
          "text": [
            "           Date Client  Order_Quantity  Material\n",
            "2222 2020-02-11     c3              33  11000851\n",
            "2223 2020-02-11     c3              63  11001186\n",
            "2224 2020-02-11     c3              22  11000858\n",
            "2226 2020-02-10     c5              48  12222902\n",
            "2227 2020-02-10     c5             126  12042081\n",
            "...         ...    ...             ...       ...\n",
            "2768 2020-02-24     c2             240  12222902\n",
            "2769 2020-02-24     c1             168  12395525\n",
            "2770 2020-02-24     c1              66  12271469\n",
            "2771 2020-02-24     c1             540  12293783\n",
            "2772 2020-02-24     c1              35  12404641\n",
            "\n",
            "[490 rows x 4 columns]\n"
          ],
          "name": "stdout"
        }
      ]
    },
    {
      "cell_type": "code",
      "metadata": {
        "id": "atZ5p7k75DEa"
      },
      "source": [
        "#Calling the statsmodel library to perform the Exponential Smoothing fuction\n",
        "from statsmodels.tsa.api import ExponentialSmoothing"
      ],
      "execution_count": null,
      "outputs": []
    },
    {
      "cell_type": "code",
      "metadata": {
        "id": "quE0mrq-5DEa",
        "outputId": "d7bff798-a608-4ceb-eecf-8e98ac4f7015"
      },
      "source": [
        "#Plotting Train and Test \n",
        "train.Order_Quantity.plot(figsize=(12,6), title= 'Train Order_Quantity', fontsize=10)\n",
        "plt.show()\n",
        "test.Order_Quantity.plot(figsize=(12,6), title= 'Test Order_Quantity', fontsize=10)\n",
        "plt.show()"
      ],
      "execution_count": null,
      "outputs": [
        {
          "output_type": "display_data",
          "data": {
            "image/png": "[encoded data removed]",
            "text/plain": [
              "<Figure size 864x432 with 1 Axes>"
            ]
          },
          "metadata": {
            "tags": [],
            "needs_background": "light"
          }
        },
        {
          "output_type": "display_data",
          "data": {
            "image/png": "[encoded data removed]",
            "text/plain": [
              "<Figure size 864x432 with 1 Axes>"
            ]
          },
          "metadata": {
            "tags": [],
            "needs_background": "light"
          }
        }
      ]
    },
    {
      "cell_type": "code",
      "metadata": {
        "id": "cpWvbdIt5DEb",
        "outputId": "da0363c2-c488-4a52-c3dd-cf8f26aa25e1"
      },
      "source": [
        "#Performing exponential smoothing using Holt-Winter's method and forecasting \n",
        "ypred = test.copy() #Initializing thr test copy values to the prediction values\n",
        "fit1 = ExponentialSmoothing(np.asarray(train['Order_Quantity']) ,seasonal_periods=7 ,trend='add', seasonal='add').fit()\n",
        "ypred = fit1.predict(len(test))\n",
        "plt.figure(figsize=(16,8))\n",
        "#plt.plot( train['Order_Quantity'], label='Train')\n",
        "#plt.plot(test['Order_Quantity'], label='Test')\n",
        "plt.plot(ypred, label='Holt_Winter')\n",
        "plt.legend(loc='best')\n",
        "plt.show()"
      ],
      "execution_count": null,
      "outputs": [
        {
          "output_type": "stream",
          "text": [
            "C:\\Users\\krima\\anaconda3\\lib\\site-packages\\statsmodels\\tsa\\holtwinters.py:744: ConvergenceWarning: Optimization failed to converge. Check mle_retvals.\n",
            "  ConvergenceWarning)\n"
          ],
          "name": "stderr"
        },
        {
          "output_type": "display_data",
          "data": {
            "image/png": "[encoded data removed]",
            "text/plain": [
              "<Figure size 1152x576 with 1 Axes>"
            ]
          },
          "metadata": {
            "tags": [],
            "needs_background": "light"
          }
        }
      ]
    },
    {
      "cell_type": "code",
      "metadata": {
        "id": "l-KK6L_Q5DEc"
      },
      "source": [
        "from sklearn.metrics import mean_squared_error\n",
        "from math import sqrt\n",
        "#Measuring the accuracy\n",
        "#rms = np.sqrt(mean_squared_error(test.Order_Quantity, ypred))\n",
        "#print(rms)"
      ],
      "execution_count": null,
      "outputs": []
    },
    {
      "cell_type": "code",
      "metadata": {
        "id": "Zm-yo0tq5DEc",
        "outputId": "3ad3c205-d1b5-4e70-ba1a-3a7f840ce4d2"
      },
      "source": [
        "print(ypred)"
      ],
      "execution_count": null,
      "outputs": [
        {
          "output_type": "stream",
          "text": [
            "[298.53927942 387.39185891 367.04590578 ... 152.21381693  85.88979982\n",
            "  52.61721637]\n"
          ],
          "name": "stdout"
        }
      ]
    },
    {
      "cell_type": "code",
      "metadata": {
        "id": "7XtTrQJO5DEd"
      },
      "source": [
        ""
      ],
      "execution_count": null,
      "outputs": []
    },
    {
      "cell_type": "markdown",
      "metadata": {
        "id": "PG3erE0I5DEd"
      },
      "source": [
        "#METHOD 2: \n",
        "\n",
        "MULTIVARIABLE REGRESSION ANALYSIS\n",
        "\n",
        "The second method used is Multivariable Regression Analysis for forecasting model for the given data. The multi-variable regression model is an extension of the linear regression model as this technique considers more than one outcome variable. The statistical goal for the use of this model is to produce the model in the form of linear regression along with identifying the best weighted linear combination of each independent variable in the data to optimally predict the output variable. This model is suited for the given case as there are two independent variables in the data, Clients and Materials. \n",
        "The model can capture the essential patterns, like (1) Trend and (2) Seasonality, in the statistical model to improve the forecasting. The trend is a steady movement of time series in a particular direction. They are frequently seen and are of practical importance. Trends can be either linear or non-linear. \n",
        "\n",
        "1)Trend\n",
        "  a) Linear trends: Trend with a steady increment or decrement in the variable value over a period of time is known as linear trend. Mathematically, the linear trend can be estimated by \n",
        "                                                    \n",
        "                                                       y_t=a+b*t\n",
        "\n",
        "where t is the trend added to the regression as an explanatory variable.\n",
        "\t\n",
        "  b) Non-linear trends: If the rate of increase of decrease of the variable output, over a period of time, is unsteady then the trend is defined as non-linear. The non-linear trend can be quadratic, cubic, or exponential. \n",
        "\t\n",
        "  c) Quadratic trend: They are a form of polynomial or order of 2\n",
        "\n",
        "                                                     y_t=a+b*t+c*t^2\n",
        "\n",
        "where t is the trend and t2 is the squared trend added to the regression as an explanatory variable.\n",
        "\n",
        "\n",
        "  d) Cubic trend: They are a form of polynomial or order of 3\n",
        "\n",
        "                                                  y_t=a+b*t+c*t^2+d*t^3\n",
        "\n",
        "where t is the trend, t2 is the squared trend and t3 is the cubic trend added to the regression as an explanatory variable.\n",
        "\n",
        "\n",
        "   e) Exponential trend: this is the trend best suited for rapid increase or decrease of the data series\n",
        "\n",
        "                                                      y_t=e^(a+b*t)\n",
        "                                                    〖ln⁡(y〗_t)=a+b*t\n",
        "where t is the trend added to the regression as an explanatory variable.\n",
        "\n",
        "\n",
        "2)Seasonality\n",
        "\n",
        "Variables are also affected by the regularity of its occurrence with respect to time. Product sales and other variables which are agricultural based will depend on their harvesting seasons. Sales of some products will depend on the weather, holidays, start of school years, etc. respectively. As a result, we encounter a pattern in the data series that relates to a particular season, which can be hours of the day, days of the week or month of the year. In such cases, to improve the accuracy of the forecasting model, we consider the seasonality factor and its variation in the time series.\n",
        "The main idea used by multivariable regression analysis is to combine the changes in trend and seasonality to give a more accurate result. \n",
        "                                                   \n",
        "                                           y_t=TREND+SEASONALITY\n",
        "                                           \n",
        "Multi-variable regression analysis and Winter’s Method is similar in terms of capturing trend and seasonality. However, the difference between the two methods is seen in the results of their forecasts. Multi-variable regression analysis is the most suitable forecasting method for short-term forecasting i.e. daily, weekly, or monthly short-term forecasting. Whereas, Winter’s method is more suitable for long-term forecasting i.e. monthly or yearly long-term forecasting.\n",
        "The use of these methods is suited for the given data series as there are two independent variables, namely clients (10) and materials (20). The trend is non-linear, and the selection of the appropriate trend will be based on the best result obtained after the incorporation of each trend in the data series. \n"
      ]
    },
    {
      "cell_type": "code",
      "metadata": {
        "id": "ojBd8w2p5DEe"
      },
      "source": [
        "import pandas as pd\n",
        "import numpy as np\n",
        "import matplotlib.pyplot as plt\n",
        "import datetime\n",
        "import seaborn as sns #data visualization library\n",
        "import warnings\n",
        "warnings.filterwarnings('ignore')"
      ],
      "execution_count": null,
      "outputs": []
    },
    {
      "cell_type": "code",
      "metadata": {
        "id": "HlcXLdU55DEf"
      },
      "source": [
        "from statsmodels.tsa.stattools import adfuller, acf, pacf\n",
        "from statsmodels.tsa.vector_ar.var_model import VAR     #Using multivariable auto-regression method with client and material as 2 variables\n",
        "from sklearn.metrics import mean_squared_error          #To find the accuracy \n",
        "from statsmodels.sandbox.regression.predstd import wls_prediction_std   \n",
        "from math import sqrt\n",
        "from matplotlib.pylab import rcParams\n",
        "rcParams['figure.figsize'] = 16,10"
      ],
      "execution_count": null,
      "outputs": []
    },
    {
      "cell_type": "code",
      "metadata": {
        "id": "eqGqdOKc5DEf"
      },
      "source": [
        "data = pd.read_csv(\"APS1017 Order data for Project.csv\", parse_dates=['Date'], infer_datetime_format = True) #extracting .csv file"
      ],
      "execution_count": null,
      "outputs": []
    },
    {
      "cell_type": "code",
      "metadata": {
        "id": "eYxEykQ05DEf",
        "outputId": "10802f82-8d65-49a8-b8a7-7461b9d2d52f"
      },
      "source": [
        "data.shape"
      ],
      "execution_count": null,
      "outputs": [
        {
          "output_type": "execute_result",
          "data": {
            "text/plain": [
              "(2773, 4)"
            ]
          },
          "metadata": {
            "tags": []
          },
          "execution_count": 54
        }
      ]
    },
    {
      "cell_type": "code",
      "metadata": {
        "id": "LsVuksCJ5DEg",
        "outputId": "dbccf632-556b-4e84-f11b-465eb4cf1b2a"
      },
      "source": [
        "data.head(10)"
      ],
      "execution_count": null,
      "outputs": [
        {
          "output_type": "execute_result",
          "data": {
            "text/html": [
              "<div>\n",
              "<style scoped>\n",
              "    .dataframe tbody tr th:only-of-type {\n",
              "        vertical-align: middle;\n",
              "    }\n",
              "\n",
              "    .dataframe tbody tr th {\n",
              "        vertical-align: top;\n",
              "    }\n",
              "\n",
              "    .dataframe thead th {\n",
              "        text-align: right;\n",
              "    }\n",
              "</style>\n",
              "<table border=\"1\" class=\"dataframe\">\n",
              "  <thead>\n",
              "    <tr style=\"text-align: right;\">\n",
              "      <th></th>\n",
              "      <th>Date</th>\n",
              "      <th>Client</th>\n",
              "      <th>Order Quantity</th>\n",
              "      <th>Material</th>\n",
              "    </tr>\n",
              "  </thead>\n",
              "  <tbody>\n",
              "    <tr>\n",
              "      <th>0</th>\n",
              "      <td>2020-01-27</td>\n",
              "      <td>c9</td>\n",
              "      <td>11712</td>\n",
              "      <td>12293768</td>\n",
              "    </tr>\n",
              "    <tr>\n",
              "      <th>1</th>\n",
              "      <td>2020-01-15</td>\n",
              "      <td>c9</td>\n",
              "      <td>6895</td>\n",
              "      <td>12246740</td>\n",
              "    </tr>\n",
              "    <tr>\n",
              "      <th>2</th>\n",
              "      <td>2020-01-29</td>\n",
              "      <td>c4</td>\n",
              "      <td>504</td>\n",
              "      <td>12321896</td>\n",
              "    </tr>\n",
              "    <tr>\n",
              "      <th>3</th>\n",
              "      <td>2019-12-18</td>\n",
              "      <td>c3</td>\n",
              "      <td>189</td>\n",
              "      <td>12042081</td>\n",
              "    </tr>\n",
              "    <tr>\n",
              "      <th>4</th>\n",
              "      <td>2019-12-18</td>\n",
              "      <td>c3</td>\n",
              "      <td>110</td>\n",
              "      <td>11000851</td>\n",
              "    </tr>\n",
              "    <tr>\n",
              "      <th>5</th>\n",
              "      <td>2019-12-18</td>\n",
              "      <td>c3</td>\n",
              "      <td>396</td>\n",
              "      <td>11000858</td>\n",
              "    </tr>\n",
              "    <tr>\n",
              "      <th>6</th>\n",
              "      <td>2019-12-18</td>\n",
              "      <td>c3</td>\n",
              "      <td>315</td>\n",
              "      <td>11001186</td>\n",
              "    </tr>\n",
              "    <tr>\n",
              "      <th>7</th>\n",
              "      <td>2020-01-27</td>\n",
              "      <td>c9</td>\n",
              "      <td>4160</td>\n",
              "      <td>12293768</td>\n",
              "    </tr>\n",
              "    <tr>\n",
              "      <th>8</th>\n",
              "      <td>2019-12-30</td>\n",
              "      <td>c2</td>\n",
              "      <td>104</td>\n",
              "      <td>12246740</td>\n",
              "    </tr>\n",
              "    <tr>\n",
              "      <th>9</th>\n",
              "      <td>2020-02-21</td>\n",
              "      <td>c8</td>\n",
              "      <td>1386</td>\n",
              "      <td>11000858</td>\n",
              "    </tr>\n",
              "  </tbody>\n",
              "</table>\n",
              "</div>"
            ],
            "text/plain": [
              "        Date Client  Order Quantity  Material\n",
              "0 2020-01-27     c9           11712  12293768\n",
              "1 2020-01-15     c9            6895  12246740\n",
              "2 2020-01-29     c4             504  12321896\n",
              "3 2019-12-18     c3             189  12042081\n",
              "4 2019-12-18     c3             110  11000851\n",
              "5 2019-12-18     c3             396  11000858\n",
              "6 2019-12-18     c3             315  11001186\n",
              "7 2020-01-27     c9            4160  12293768\n",
              "8 2019-12-30     c2             104  12246740\n",
              "9 2020-02-21     c8            1386  11000858"
            ]
          },
          "metadata": {
            "tags": []
          },
          "execution_count": 55
        }
      ]
    },
    {
      "cell_type": "code",
      "metadata": {
        "id": "V8XpcX625DEg",
        "outputId": "45c529ee-8cb9-409b-f17d-0210448c0914"
      },
      "source": [
        "data.dtypes"
      ],
      "execution_count": null,
      "outputs": [
        {
          "output_type": "execute_result",
          "data": {
            "text/plain": [
              "Date              datetime64[ns]\n",
              "Client                    object\n",
              "Order Quantity             int64\n",
              "Material                   int64\n",
              "dtype: object"
            ]
          },
          "metadata": {
            "tags": []
          },
          "execution_count": 56
        }
      ]
    },
    {
      "cell_type": "code",
      "metadata": {
        "id": "ytvwsUwJ5DEh",
        "outputId": "239e8e25-c072-4bff-c581-fa90b7b662ab"
      },
      "source": [
        "data[data.duplicated()] # Number of dpulicate values in taken data"
      ],
      "execution_count": null,
      "outputs": [
        {
          "output_type": "execute_result",
          "data": {
            "text/html": [
              "<div>\n",
              "<style scoped>\n",
              "    .dataframe tbody tr th:only-of-type {\n",
              "        vertical-align: middle;\n",
              "    }\n",
              "\n",
              "    .dataframe tbody tr th {\n",
              "        vertical-align: top;\n",
              "    }\n",
              "\n",
              "    .dataframe thead th {\n",
              "        text-align: right;\n",
              "    }\n",
              "</style>\n",
              "<table border=\"1\" class=\"dataframe\">\n",
              "  <thead>\n",
              "    <tr style=\"text-align: right;\">\n",
              "      <th></th>\n",
              "      <th>Date</th>\n",
              "      <th>Client</th>\n",
              "      <th>Order Quantity</th>\n",
              "      <th>Material</th>\n",
              "    </tr>\n",
              "  </thead>\n",
              "  <tbody>\n",
              "    <tr>\n",
              "      <th>59</th>\n",
              "      <td>2019-12-05</td>\n",
              "      <td>c7</td>\n",
              "      <td>120</td>\n",
              "      <td>12222902</td>\n",
              "    </tr>\n",
              "    <tr>\n",
              "      <th>82</th>\n",
              "      <td>2019-12-10</td>\n",
              "      <td>c4</td>\n",
              "      <td>112</td>\n",
              "      <td>12396696</td>\n",
              "    </tr>\n",
              "    <tr>\n",
              "      <th>139</th>\n",
              "      <td>2019-12-19</td>\n",
              "      <td>c3</td>\n",
              "      <td>48</td>\n",
              "      <td>12222902</td>\n",
              "    </tr>\n",
              "    <tr>\n",
              "      <th>149</th>\n",
              "      <td>2019-12-19</td>\n",
              "      <td>c5</td>\n",
              "      <td>210</td>\n",
              "      <td>12322779</td>\n",
              "    </tr>\n",
              "    <tr>\n",
              "      <th>158</th>\n",
              "      <td>2019-12-21</td>\n",
              "      <td>c4</td>\n",
              "      <td>252</td>\n",
              "      <td>12321895</td>\n",
              "    </tr>\n",
              "    <tr>\n",
              "      <th>...</th>\n",
              "      <td>...</td>\n",
              "      <td>...</td>\n",
              "      <td>...</td>\n",
              "      <td>...</td>\n",
              "    </tr>\n",
              "    <tr>\n",
              "      <th>2722</th>\n",
              "      <td>2020-02-21</td>\n",
              "      <td>c1</td>\n",
              "      <td>104</td>\n",
              "      <td>12246740</td>\n",
              "    </tr>\n",
              "    <tr>\n",
              "      <th>2728</th>\n",
              "      <td>2020-02-21</td>\n",
              "      <td>c3</td>\n",
              "      <td>96</td>\n",
              "      <td>12222902</td>\n",
              "    </tr>\n",
              "    <tr>\n",
              "      <th>2729</th>\n",
              "      <td>2020-02-21</td>\n",
              "      <td>c4</td>\n",
              "      <td>28</td>\n",
              "      <td>12396696</td>\n",
              "    </tr>\n",
              "    <tr>\n",
              "      <th>2731</th>\n",
              "      <td>2020-02-21</td>\n",
              "      <td>c2</td>\n",
              "      <td>42</td>\n",
              "      <td>12395525</td>\n",
              "    </tr>\n",
              "    <tr>\n",
              "      <th>2759</th>\n",
              "      <td>2020-02-24</td>\n",
              "      <td>c1</td>\n",
              "      <td>126</td>\n",
              "      <td>11001186</td>\n",
              "    </tr>\n",
              "  </tbody>\n",
              "</table>\n",
              "<p>325 rows × 4 columns</p>\n",
              "</div>"
            ],
            "text/plain": [
              "           Date Client  Order Quantity  Material\n",
              "59   2019-12-05     c7             120  12222902\n",
              "82   2019-12-10     c4             112  12396696\n",
              "139  2019-12-19     c3              48  12222902\n",
              "149  2019-12-19     c5             210  12322779\n",
              "158  2019-12-21     c4             252  12321895\n",
              "...         ...    ...             ...       ...\n",
              "2722 2020-02-21     c1             104  12246740\n",
              "2728 2020-02-21     c3              96  12222902\n",
              "2729 2020-02-21     c4              28  12396696\n",
              "2731 2020-02-21     c2              42  12395525\n",
              "2759 2020-02-24     c1             126  11001186\n",
              "\n",
              "[325 rows x 4 columns]"
            ]
          },
          "metadata": {
            "tags": []
          },
          "execution_count": 57
        }
      ]
    },
    {
      "cell_type": "code",
      "metadata": {
        "id": "6h9PDflx5DEi",
        "outputId": "55083e84-c3f7-4b74-f02b-56ca802a680f"
      },
      "source": [
        "data.drop_duplicates(keep=\"first\",inplace=True)  #Dropping all the 325 duplicate values\n",
        "data.shape"
      ],
      "execution_count": null,
      "outputs": [
        {
          "output_type": "execute_result",
          "data": {
            "text/plain": [
              "(2448, 4)"
            ]
          },
          "metadata": {
            "tags": []
          },
          "execution_count": 58
        }
      ]
    },
    {
      "cell_type": "code",
      "metadata": {
        "id": "aorFD1Xu5DEi",
        "outputId": "88156fc5-57c7-4918-ca81-35a62d812107"
      },
      "source": [
        "data.head(20)"
      ],
      "execution_count": null,
      "outputs": [
        {
          "output_type": "execute_result",
          "data": {
            "text/html": [
              "<div>\n",
              "<style scoped>\n",
              "    .dataframe tbody tr th:only-of-type {\n",
              "        vertical-align: middle;\n",
              "    }\n",
              "\n",
              "    .dataframe tbody tr th {\n",
              "        vertical-align: top;\n",
              "    }\n",
              "\n",
              "    .dataframe thead th {\n",
              "        text-align: right;\n",
              "    }\n",
              "</style>\n",
              "<table border=\"1\" class=\"dataframe\">\n",
              "  <thead>\n",
              "    <tr style=\"text-align: right;\">\n",
              "      <th></th>\n",
              "      <th>Date</th>\n",
              "      <th>Client</th>\n",
              "      <th>Order Quantity</th>\n",
              "      <th>Material</th>\n",
              "    </tr>\n",
              "  </thead>\n",
              "  <tbody>\n",
              "    <tr>\n",
              "      <th>0</th>\n",
              "      <td>2020-01-27</td>\n",
              "      <td>c9</td>\n",
              "      <td>11712</td>\n",
              "      <td>12293768</td>\n",
              "    </tr>\n",
              "    <tr>\n",
              "      <th>1</th>\n",
              "      <td>2020-01-15</td>\n",
              "      <td>c9</td>\n",
              "      <td>6895</td>\n",
              "      <td>12246740</td>\n",
              "    </tr>\n",
              "    <tr>\n",
              "      <th>2</th>\n",
              "      <td>2020-01-29</td>\n",
              "      <td>c4</td>\n",
              "      <td>504</td>\n",
              "      <td>12321896</td>\n",
              "    </tr>\n",
              "    <tr>\n",
              "      <th>3</th>\n",
              "      <td>2019-12-18</td>\n",
              "      <td>c3</td>\n",
              "      <td>189</td>\n",
              "      <td>12042081</td>\n",
              "    </tr>\n",
              "    <tr>\n",
              "      <th>4</th>\n",
              "      <td>2019-12-18</td>\n",
              "      <td>c3</td>\n",
              "      <td>110</td>\n",
              "      <td>11000851</td>\n",
              "    </tr>\n",
              "    <tr>\n",
              "      <th>5</th>\n",
              "      <td>2019-12-18</td>\n",
              "      <td>c3</td>\n",
              "      <td>396</td>\n",
              "      <td>11000858</td>\n",
              "    </tr>\n",
              "    <tr>\n",
              "      <th>6</th>\n",
              "      <td>2019-12-18</td>\n",
              "      <td>c3</td>\n",
              "      <td>315</td>\n",
              "      <td>11001186</td>\n",
              "    </tr>\n",
              "    <tr>\n",
              "      <th>7</th>\n",
              "      <td>2020-01-27</td>\n",
              "      <td>c9</td>\n",
              "      <td>4160</td>\n",
              "      <td>12293768</td>\n",
              "    </tr>\n",
              "    <tr>\n",
              "      <th>8</th>\n",
              "      <td>2019-12-30</td>\n",
              "      <td>c2</td>\n",
              "      <td>104</td>\n",
              "      <td>12246740</td>\n",
              "    </tr>\n",
              "    <tr>\n",
              "      <th>9</th>\n",
              "      <td>2020-02-21</td>\n",
              "      <td>c8</td>\n",
              "      <td>1386</td>\n",
              "      <td>11000858</td>\n",
              "    </tr>\n",
              "    <tr>\n",
              "      <th>10</th>\n",
              "      <td>2020-02-20</td>\n",
              "      <td>c10</td>\n",
              "      <td>297</td>\n",
              "      <td>11000858</td>\n",
              "    </tr>\n",
              "    <tr>\n",
              "      <th>11</th>\n",
              "      <td>2020-02-20</td>\n",
              "      <td>c10</td>\n",
              "      <td>210</td>\n",
              "      <td>11001186</td>\n",
              "    </tr>\n",
              "    <tr>\n",
              "      <th>12</th>\n",
              "      <td>2020-01-03</td>\n",
              "      <td>c8</td>\n",
              "      <td>420</td>\n",
              "      <td>12322779</td>\n",
              "    </tr>\n",
              "    <tr>\n",
              "      <th>13</th>\n",
              "      <td>2020-01-03</td>\n",
              "      <td>c8</td>\n",
              "      <td>240</td>\n",
              "      <td>12293768</td>\n",
              "    </tr>\n",
              "    <tr>\n",
              "      <th>14</th>\n",
              "      <td>2020-01-27</td>\n",
              "      <td>c9</td>\n",
              "      <td>3392</td>\n",
              "      <td>12293768</td>\n",
              "    </tr>\n",
              "    <tr>\n",
              "      <th>15</th>\n",
              "      <td>2019-12-27</td>\n",
              "      <td>c3</td>\n",
              "      <td>48</td>\n",
              "      <td>12222902</td>\n",
              "    </tr>\n",
              "    <tr>\n",
              "      <th>16</th>\n",
              "      <td>2020-01-22</td>\n",
              "      <td>c3</td>\n",
              "      <td>104</td>\n",
              "      <td>12246740</td>\n",
              "    </tr>\n",
              "    <tr>\n",
              "      <th>17</th>\n",
              "      <td>2020-01-06</td>\n",
              "      <td>c2</td>\n",
              "      <td>96</td>\n",
              "      <td>12222902</td>\n",
              "    </tr>\n",
              "    <tr>\n",
              "      <th>18</th>\n",
              "      <td>2020-01-14</td>\n",
              "      <td>c6</td>\n",
              "      <td>252</td>\n",
              "      <td>12395525</td>\n",
              "    </tr>\n",
              "    <tr>\n",
              "      <th>19</th>\n",
              "      <td>2020-01-14</td>\n",
              "      <td>c6</td>\n",
              "      <td>105</td>\n",
              "      <td>12322779</td>\n",
              "    </tr>\n",
              "  </tbody>\n",
              "</table>\n",
              "</div>"
            ],
            "text/plain": [
              "         Date Client  Order Quantity  Material\n",
              "0  2020-01-27     c9           11712  12293768\n",
              "1  2020-01-15     c9            6895  12246740\n",
              "2  2020-01-29     c4             504  12321896\n",
              "3  2019-12-18     c3             189  12042081\n",
              "4  2019-12-18     c3             110  11000851\n",
              "5  2019-12-18     c3             396  11000858\n",
              "6  2019-12-18     c3             315  11001186\n",
              "7  2020-01-27     c9            4160  12293768\n",
              "8  2019-12-30     c2             104  12246740\n",
              "9  2020-02-21     c8            1386  11000858\n",
              "10 2020-02-20    c10             297  11000858\n",
              "11 2020-02-20    c10             210  11001186\n",
              "12 2020-01-03     c8             420  12322779\n",
              "13 2020-01-03     c8             240  12293768\n",
              "14 2020-01-27     c9            3392  12293768\n",
              "15 2019-12-27     c3              48  12222902\n",
              "16 2020-01-22     c3             104  12246740\n",
              "17 2020-01-06     c2              96  12222902\n",
              "18 2020-01-14     c6             252  12395525\n",
              "19 2020-01-14     c6             105  12322779"
            ]
          },
          "metadata": {
            "tags": []
          },
          "execution_count": 59
        }
      ]
    },
    {
      "cell_type": "code",
      "metadata": {
        "id": "gvkHbIYU5DEj"
      },
      "source": [
        "df = data.groupby(['Date','Client','Material'],as_index=False).agg({'Order Quantity': 'sum'}) #Taking the aggregate"
      ],
      "execution_count": null,
      "outputs": []
    },
    {
      "cell_type": "code",
      "metadata": {
        "id": "84AQfveW5DEj",
        "outputId": "b33ea250-69d3-48f4-e88d-54bdd8f42db8"
      },
      "source": [
        "#Plotting Date vs Client\n",
        "\n",
        "plt.figure(figsize=(10, 8))\n",
        "plt.plot(df['Date'], df['Client'], 'b-', label = 'Order time')\n",
        "plt.xlabel('Date'); plt.ylabel('Client'); plt.title('Date on which clients ordered')\n",
        "plt.legend();"
      ],
      "execution_count": null,
      "outputs": [
        {
          "output_type": "display_data",
          "data": {
            "image/png": "[encoded data removed]",
            "text/plain": [
              "<Figure size 720x576 with 1 Axes>"
            ]
          },
          "metadata": {
            "tags": [],
            "needs_background": "light"
          }
        }
      ]
    },
    {
      "cell_type": "code",
      "metadata": {
        "id": "3ZeiZLk65DEj",
        "outputId": "e1b7f20f-477e-4e9f-d768-d776106d5f81"
      },
      "source": [
        "#Plotting Date vs Material\n",
        "\n",
        "plt.figure(figsize=(10, 8))\n",
        "plt.plot(df['Date'], df['Material'], 'b-', label = 'Ordered material')\n",
        "plt.xlabel('Date'); plt.ylabel('Material'); plt.title('Material ordered on date')\n",
        "plt.legend();"
      ],
      "execution_count": null,
      "outputs": [
        {
          "output_type": "display_data",
          "data": {
            "image/png": "[encoded data removed]",
            "text/plain": [
              "<Figure size 720x576 with 1 Axes>"
            ]
          },
          "metadata": {
            "tags": [],
            "needs_background": "light"
          }
        }
      ]
    },
    {
      "cell_type": "code",
      "metadata": {
        "id": "Yj6K1bKk5DEk",
        "outputId": "d78e3785-47d9-4368-d995-7bdb5290a4e6"
      },
      "source": [
        "#Plotting Client vs Material\n",
        "\n",
        "plt.figure(figsize=(10, 8))\n",
        "plt.plot(df['Client'], df['Material'], 'bo', label = 'Material client')\n",
        "plt.xlabel('Client'); plt.ylabel('Material'); plt.title('Material that client ordered')\n",
        "plt.legend();"
      ],
      "execution_count": null,
      "outputs": [
        {
          "output_type": "display_data",
          "data": {
            "image/png": "[encoded data removed]",
            "text/plain": [
              "<Figure size 720x576 with 1 Axes>"
            ]
          },
          "metadata": {
            "tags": [],
            "needs_background": "light"
          }
        }
      ]
    },
    {
      "cell_type": "code",
      "metadata": {
        "id": "5BQZyKq55DEk",
        "outputId": "fc7a8767-9c20-410f-9e55-80a0b7e3f047"
      },
      "source": [
        "df.head(10)"
      ],
      "execution_count": null,
      "outputs": [
        {
          "output_type": "execute_result",
          "data": {
            "text/html": [
              "<div>\n",
              "<style scoped>\n",
              "    .dataframe tbody tr th:only-of-type {\n",
              "        vertical-align: middle;\n",
              "    }\n",
              "\n",
              "    .dataframe tbody tr th {\n",
              "        vertical-align: top;\n",
              "    }\n",
              "\n",
              "    .dataframe thead th {\n",
              "        text-align: right;\n",
              "    }\n",
              "</style>\n",
              "<table border=\"1\" class=\"dataframe\">\n",
              "  <thead>\n",
              "    <tr style=\"text-align: right;\">\n",
              "      <th></th>\n",
              "      <th>Date</th>\n",
              "      <th>Client</th>\n",
              "      <th>Material</th>\n",
              "      <th>Order Quantity</th>\n",
              "    </tr>\n",
              "  </thead>\n",
              "  <tbody>\n",
              "    <tr>\n",
              "      <th>0</th>\n",
              "      <td>2019-12-05</td>\n",
              "      <td>c7</td>\n",
              "      <td>11000851</td>\n",
              "      <td>660</td>\n",
              "    </tr>\n",
              "    <tr>\n",
              "      <th>1</th>\n",
              "      <td>2019-12-05</td>\n",
              "      <td>c7</td>\n",
              "      <td>11000858</td>\n",
              "      <td>297</td>\n",
              "    </tr>\n",
              "    <tr>\n",
              "      <th>2</th>\n",
              "      <td>2019-12-05</td>\n",
              "      <td>c7</td>\n",
              "      <td>11001186</td>\n",
              "      <td>504</td>\n",
              "    </tr>\n",
              "    <tr>\n",
              "      <th>3</th>\n",
              "      <td>2019-12-05</td>\n",
              "      <td>c7</td>\n",
              "      <td>12042081</td>\n",
              "      <td>504</td>\n",
              "    </tr>\n",
              "    <tr>\n",
              "      <th>4</th>\n",
              "      <td>2019-12-05</td>\n",
              "      <td>c7</td>\n",
              "      <td>12222902</td>\n",
              "      <td>192</td>\n",
              "    </tr>\n",
              "    <tr>\n",
              "      <th>5</th>\n",
              "      <td>2019-12-06</td>\n",
              "      <td>c7</td>\n",
              "      <td>12246740</td>\n",
              "      <td>65</td>\n",
              "    </tr>\n",
              "    <tr>\n",
              "      <th>6</th>\n",
              "      <td>2019-12-06</td>\n",
              "      <td>c7</td>\n",
              "      <td>12271469</td>\n",
              "      <td>1848</td>\n",
              "    </tr>\n",
              "    <tr>\n",
              "      <th>7</th>\n",
              "      <td>2019-12-06</td>\n",
              "      <td>c7</td>\n",
              "      <td>12322779</td>\n",
              "      <td>1995</td>\n",
              "    </tr>\n",
              "    <tr>\n",
              "      <th>8</th>\n",
              "      <td>2019-12-06</td>\n",
              "      <td>c7</td>\n",
              "      <td>12404641</td>\n",
              "      <td>98</td>\n",
              "    </tr>\n",
              "    <tr>\n",
              "      <th>9</th>\n",
              "      <td>2019-12-09</td>\n",
              "      <td>c6</td>\n",
              "      <td>12320618</td>\n",
              "      <td>264</td>\n",
              "    </tr>\n",
              "  </tbody>\n",
              "</table>\n",
              "</div>"
            ],
            "text/plain": [
              "        Date Client  Material  Order Quantity\n",
              "0 2019-12-05     c7  11000851             660\n",
              "1 2019-12-05     c7  11000858             297\n",
              "2 2019-12-05     c7  11001186             504\n",
              "3 2019-12-05     c7  12042081             504\n",
              "4 2019-12-05     c7  12222902             192\n",
              "5 2019-12-06     c7  12246740              65\n",
              "6 2019-12-06     c7  12271469            1848\n",
              "7 2019-12-06     c7  12322779            1995\n",
              "8 2019-12-06     c7  12404641              98\n",
              "9 2019-12-09     c6  12320618             264"
            ]
          },
          "metadata": {
            "tags": []
          },
          "execution_count": 64
        }
      ]
    },
    {
      "cell_type": "code",
      "metadata": {
        "id": "JkVw18GN5DEl",
        "outputId": "dc449880-789c-4fa7-aa10-b7fee2347f5a"
      },
      "source": [
        "df['Date'][0].month"
      ],
      "execution_count": null,
      "outputs": [
        {
          "output_type": "execute_result",
          "data": {
            "text/plain": [
              "12"
            ]
          },
          "metadata": {
            "tags": []
          },
          "execution_count": 65
        }
      ]
    },
    {
      "cell_type": "code",
      "metadata": {
        "id": "6JqUqdmO5DEl",
        "outputId": "d7dbdbba-801a-47c8-fb0d-e1a4592a7ca7"
      },
      "source": [
        "df.shape"
      ],
      "execution_count": null,
      "outputs": [
        {
          "output_type": "execute_result",
          "data": {
            "text/plain": [
              "(1692, 4)"
            ]
          },
          "metadata": {
            "tags": []
          },
          "execution_count": 66
        }
      ]
    },
    {
      "cell_type": "code",
      "metadata": {
        "id": "i0nkVsLO5DEl",
        "outputId": "53d8dd77-4884-4c82-9f3d-2931b2129472"
      },
      "source": [
        "df['Client'].value_counts()"
      ],
      "execution_count": null,
      "outputs": [
        {
          "output_type": "execute_result",
          "data": {
            "text/plain": [
              "c1     369\n",
              "c3     317\n",
              "c2     292\n",
              "c7     163\n",
              "c6     120\n",
              "c8     116\n",
              "c5     110\n",
              "c10    107\n",
              "c4      94\n",
              "c9       4\n",
              "Name: Client, dtype: int64"
            ]
          },
          "metadata": {
            "tags": []
          },
          "execution_count": 67
        }
      ]
    },
    {
      "cell_type": "code",
      "metadata": {
        "id": "i5J2X6Kr5DEm",
        "outputId": "67771c52-48f5-4b49-9ada-c3cb0d6dc776"
      },
      "source": [
        "df['Material'].value_counts()"
      ],
      "execution_count": null,
      "outputs": [
        {
          "output_type": "execute_result",
          "data": {
            "text/plain": [
              "12222902    157\n",
              "12042081    119\n",
              "11000851    118\n",
              "12293783    117\n",
              "11000858    116\n",
              "12395525    110\n",
              "12271469    108\n",
              "11001186    107\n",
              "12293768     99\n",
              "12322779     96\n",
              "12404641     95\n",
              "12320619     95\n",
              "12320618     94\n",
              "12320670     92\n",
              "12246740     73\n",
              "12396696     38\n",
              "12365978     28\n",
              "12321896     14\n",
              "12321895     14\n",
              "12160666      2\n",
              "Name: Material, dtype: int64"
            ]
          },
          "metadata": {
            "tags": []
          },
          "execution_count": 68
        }
      ]
    },
    {
      "cell_type": "code",
      "metadata": {
        "id": "16bSICCk5DEm"
      },
      "source": [
        "ck = []\n",
        "k=1\n",
        "for i in range(len(df)):\n",
        "    \n",
        "    if i == 0:\n",
        "        ck.append(k)\n",
        "    else:\n",
        "        if (df['Date'][i]-df['Date'][i-1]).days ==0:\n",
        "            ck.append(ck[i-1])\n",
        "        else:\n",
        "            ck.append((df['Date'][i]-df['Date'][0]).days)\n",
        "            "
      ],
      "execution_count": null,
      "outputs": []
    },
    {
      "cell_type": "code",
      "metadata": {
        "id": "0OQN08cR5DEn",
        "outputId": "7cff66bd-84b8-4fea-a711-da69d6b05f4c"
      },
      "source": [
        "ck[0:10]"
      ],
      "execution_count": null,
      "outputs": [
        {
          "output_type": "execute_result",
          "data": {
            "text/plain": [
              "[1, 1, 1, 1, 1, 1, 1, 1, 1, 4]"
            ]
          },
          "metadata": {
            "tags": []
          },
          "execution_count": 70
        }
      ]
    },
    {
      "cell_type": "code",
      "metadata": {
        "id": "L68OhPhW5DEn"
      },
      "source": [
        "df['Trend']=ck"
      ],
      "execution_count": null,
      "outputs": []
    },
    {
      "cell_type": "code",
      "metadata": {
        "id": "AiSLGu4k5DEn"
      },
      "source": [
        "df['Month']=[df['Date'][i].month for i in range(len(df))]"
      ],
      "execution_count": null,
      "outputs": []
    },
    {
      "cell_type": "code",
      "metadata": {
        "id": "TaHQolQa5DEo",
        "outputId": "7d169cb8-0f03-40ab-ea6e-7ace452ccab6"
      },
      "source": [
        "df.head(10)"
      ],
      "execution_count": null,
      "outputs": [
        {
          "output_type": "execute_result",
          "data": {
            "text/html": [
              "<div>\n",
              "<style scoped>\n",
              "    .dataframe tbody tr th:only-of-type {\n",
              "        vertical-align: middle;\n",
              "    }\n",
              "\n",
              "    .dataframe tbody tr th {\n",
              "        vertical-align: top;\n",
              "    }\n",
              "\n",
              "    .dataframe thead th {\n",
              "        text-align: right;\n",
              "    }\n",
              "</style>\n",
              "<table border=\"1\" class=\"dataframe\">\n",
              "  <thead>\n",
              "    <tr style=\"text-align: right;\">\n",
              "      <th></th>\n",
              "      <th>Date</th>\n",
              "      <th>Client</th>\n",
              "      <th>Material</th>\n",
              "      <th>Order Quantity</th>\n",
              "      <th>Trend</th>\n",
              "      <th>Month</th>\n",
              "    </tr>\n",
              "  </thead>\n",
              "  <tbody>\n",
              "    <tr>\n",
              "      <th>0</th>\n",
              "      <td>2019-12-05</td>\n",
              "      <td>c7</td>\n",
              "      <td>11000851</td>\n",
              "      <td>660</td>\n",
              "      <td>1</td>\n",
              "      <td>12</td>\n",
              "    </tr>\n",
              "    <tr>\n",
              "      <th>1</th>\n",
              "      <td>2019-12-05</td>\n",
              "      <td>c7</td>\n",
              "      <td>11000858</td>\n",
              "      <td>297</td>\n",
              "      <td>1</td>\n",
              "      <td>12</td>\n",
              "    </tr>\n",
              "    <tr>\n",
              "      <th>2</th>\n",
              "      <td>2019-12-05</td>\n",
              "      <td>c7</td>\n",
              "      <td>11001186</td>\n",
              "      <td>504</td>\n",
              "      <td>1</td>\n",
              "      <td>12</td>\n",
              "    </tr>\n",
              "    <tr>\n",
              "      <th>3</th>\n",
              "      <td>2019-12-05</td>\n",
              "      <td>c7</td>\n",
              "      <td>12042081</td>\n",
              "      <td>504</td>\n",
              "      <td>1</td>\n",
              "      <td>12</td>\n",
              "    </tr>\n",
              "    <tr>\n",
              "      <th>4</th>\n",
              "      <td>2019-12-05</td>\n",
              "      <td>c7</td>\n",
              "      <td>12222902</td>\n",
              "      <td>192</td>\n",
              "      <td>1</td>\n",
              "      <td>12</td>\n",
              "    </tr>\n",
              "    <tr>\n",
              "      <th>5</th>\n",
              "      <td>2019-12-06</td>\n",
              "      <td>c7</td>\n",
              "      <td>12246740</td>\n",
              "      <td>65</td>\n",
              "      <td>1</td>\n",
              "      <td>12</td>\n",
              "    </tr>\n",
              "    <tr>\n",
              "      <th>6</th>\n",
              "      <td>2019-12-06</td>\n",
              "      <td>c7</td>\n",
              "      <td>12271469</td>\n",
              "      <td>1848</td>\n",
              "      <td>1</td>\n",
              "      <td>12</td>\n",
              "    </tr>\n",
              "    <tr>\n",
              "      <th>7</th>\n",
              "      <td>2019-12-06</td>\n",
              "      <td>c7</td>\n",
              "      <td>12322779</td>\n",
              "      <td>1995</td>\n",
              "      <td>1</td>\n",
              "      <td>12</td>\n",
              "    </tr>\n",
              "    <tr>\n",
              "      <th>8</th>\n",
              "      <td>2019-12-06</td>\n",
              "      <td>c7</td>\n",
              "      <td>12404641</td>\n",
              "      <td>98</td>\n",
              "      <td>1</td>\n",
              "      <td>12</td>\n",
              "    </tr>\n",
              "    <tr>\n",
              "      <th>9</th>\n",
              "      <td>2019-12-09</td>\n",
              "      <td>c6</td>\n",
              "      <td>12320618</td>\n",
              "      <td>264</td>\n",
              "      <td>4</td>\n",
              "      <td>12</td>\n",
              "    </tr>\n",
              "  </tbody>\n",
              "</table>\n",
              "</div>"
            ],
            "text/plain": [
              "        Date Client  Material  Order Quantity  Trend  Month\n",
              "0 2019-12-05     c7  11000851             660      1     12\n",
              "1 2019-12-05     c7  11000858             297      1     12\n",
              "2 2019-12-05     c7  11001186             504      1     12\n",
              "3 2019-12-05     c7  12042081             504      1     12\n",
              "4 2019-12-05     c7  12222902             192      1     12\n",
              "5 2019-12-06     c7  12246740              65      1     12\n",
              "6 2019-12-06     c7  12271469            1848      1     12\n",
              "7 2019-12-06     c7  12322779            1995      1     12\n",
              "8 2019-12-06     c7  12404641              98      1     12\n",
              "9 2019-12-09     c6  12320618             264      4     12"
            ]
          },
          "metadata": {
            "tags": []
          },
          "execution_count": 73
        }
      ]
    },
    {
      "cell_type": "code",
      "metadata": {
        "id": "umHjyn-V5DEo",
        "outputId": "36d960d7-4b36-4bf8-a5a9-d4f32637b6c5"
      },
      "source": [
        "df.head()"
      ],
      "execution_count": null,
      "outputs": [
        {
          "output_type": "execute_result",
          "data": {
            "text/html": [
              "<div>\n",
              "<style scoped>\n",
              "    .dataframe tbody tr th:only-of-type {\n",
              "        vertical-align: middle;\n",
              "    }\n",
              "\n",
              "    .dataframe tbody tr th {\n",
              "        vertical-align: top;\n",
              "    }\n",
              "\n",
              "    .dataframe thead th {\n",
              "        text-align: right;\n",
              "    }\n",
              "</style>\n",
              "<table border=\"1\" class=\"dataframe\">\n",
              "  <thead>\n",
              "    <tr style=\"text-align: right;\">\n",
              "      <th></th>\n",
              "      <th>Date</th>\n",
              "      <th>Client</th>\n",
              "      <th>Material</th>\n",
              "      <th>Order Quantity</th>\n",
              "      <th>Trend</th>\n",
              "      <th>Month</th>\n",
              "    </tr>\n",
              "  </thead>\n",
              "  <tbody>\n",
              "    <tr>\n",
              "      <th>0</th>\n",
              "      <td>2019-12-05</td>\n",
              "      <td>c7</td>\n",
              "      <td>11000851</td>\n",
              "      <td>660</td>\n",
              "      <td>1</td>\n",
              "      <td>12</td>\n",
              "    </tr>\n",
              "    <tr>\n",
              "      <th>1</th>\n",
              "      <td>2019-12-05</td>\n",
              "      <td>c7</td>\n",
              "      <td>11000858</td>\n",
              "      <td>297</td>\n",
              "      <td>1</td>\n",
              "      <td>12</td>\n",
              "    </tr>\n",
              "    <tr>\n",
              "      <th>2</th>\n",
              "      <td>2019-12-05</td>\n",
              "      <td>c7</td>\n",
              "      <td>11001186</td>\n",
              "      <td>504</td>\n",
              "      <td>1</td>\n",
              "      <td>12</td>\n",
              "    </tr>\n",
              "    <tr>\n",
              "      <th>3</th>\n",
              "      <td>2019-12-05</td>\n",
              "      <td>c7</td>\n",
              "      <td>12042081</td>\n",
              "      <td>504</td>\n",
              "      <td>1</td>\n",
              "      <td>12</td>\n",
              "    </tr>\n",
              "    <tr>\n",
              "      <th>4</th>\n",
              "      <td>2019-12-05</td>\n",
              "      <td>c7</td>\n",
              "      <td>12222902</td>\n",
              "      <td>192</td>\n",
              "      <td>1</td>\n",
              "      <td>12</td>\n",
              "    </tr>\n",
              "  </tbody>\n",
              "</table>\n",
              "</div>"
            ],
            "text/plain": [
              "        Date Client  Material  Order Quantity  Trend  Month\n",
              "0 2019-12-05     c7  11000851             660      1     12\n",
              "1 2019-12-05     c7  11000858             297      1     12\n",
              "2 2019-12-05     c7  11001186             504      1     12\n",
              "3 2019-12-05     c7  12042081             504      1     12\n",
              "4 2019-12-05     c7  12222902             192      1     12"
            ]
          },
          "metadata": {
            "tags": []
          },
          "execution_count": 74
        }
      ]
    },
    {
      "cell_type": "code",
      "metadata": {
        "id": "-ROYzkO75DEo"
      },
      "source": [
        "dfdummy = pd.get_dummies(df, columns=['Client',\"Material\", 'Month'],drop_first=True) #Creating dummy variable to get particular client, material and date when user inputs."
      ],
      "execution_count": null,
      "outputs": []
    },
    {
      "cell_type": "code",
      "metadata": {
        "id": "rxb7BzBO5DEp",
        "outputId": "d0336a4a-373d-46a1-97d5-a5df105cb305"
      },
      "source": [
        "dfdummy.head(10)"
      ],
      "execution_count": null,
      "outputs": [
        {
          "output_type": "execute_result",
          "data": {
            "text/html": [
              "<div>\n",
              "<style scoped>\n",
              "    .dataframe tbody tr th:only-of-type {\n",
              "        vertical-align: middle;\n",
              "    }\n",
              "\n",
              "    .dataframe tbody tr th {\n",
              "        vertical-align: top;\n",
              "    }\n",
              "\n",
              "    .dataframe thead th {\n",
              "        text-align: right;\n",
              "    }\n",
              "</style>\n",
              "<table border=\"1\" class=\"dataframe\">\n",
              "  <thead>\n",
              "    <tr style=\"text-align: right;\">\n",
              "      <th></th>\n",
              "      <th>Date</th>\n",
              "      <th>Order Quantity</th>\n",
              "      <th>Trend</th>\n",
              "      <th>Client_c10</th>\n",
              "      <th>Client_c2</th>\n",
              "      <th>Client_c3</th>\n",
              "      <th>Client_c4</th>\n",
              "      <th>Client_c5</th>\n",
              "      <th>Client_c6</th>\n",
              "      <th>Client_c7</th>\n",
              "      <th>...</th>\n",
              "      <th>Material_12320670</th>\n",
              "      <th>Material_12321895</th>\n",
              "      <th>Material_12321896</th>\n",
              "      <th>Material_12322779</th>\n",
              "      <th>Material_12365978</th>\n",
              "      <th>Material_12395525</th>\n",
              "      <th>Material_12396696</th>\n",
              "      <th>Material_12404641</th>\n",
              "      <th>Month_2</th>\n",
              "      <th>Month_12</th>\n",
              "    </tr>\n",
              "  </thead>\n",
              "  <tbody>\n",
              "    <tr>\n",
              "      <th>0</th>\n",
              "      <td>2019-12-05</td>\n",
              "      <td>660</td>\n",
              "      <td>1</td>\n",
              "      <td>0</td>\n",
              "      <td>0</td>\n",
              "      <td>0</td>\n",
              "      <td>0</td>\n",
              "      <td>0</td>\n",
              "      <td>0</td>\n",
              "      <td>1</td>\n",
              "      <td>...</td>\n",
              "      <td>0</td>\n",
              "      <td>0</td>\n",
              "      <td>0</td>\n",
              "      <td>0</td>\n",
              "      <td>0</td>\n",
              "      <td>0</td>\n",
              "      <td>0</td>\n",
              "      <td>0</td>\n",
              "      <td>0</td>\n",
              "      <td>1</td>\n",
              "    </tr>\n",
              "    <tr>\n",
              "      <th>1</th>\n",
              "      <td>2019-12-05</td>\n",
              "      <td>297</td>\n",
              "      <td>1</td>\n",
              "      <td>0</td>\n",
              "      <td>0</td>\n",
              "      <td>0</td>\n",
              "      <td>0</td>\n",
              "      <td>0</td>\n",
              "      <td>0</td>\n",
              "      <td>1</td>\n",
              "      <td>...</td>\n",
              "      <td>0</td>\n",
              "      <td>0</td>\n",
              "      <td>0</td>\n",
              "      <td>0</td>\n",
              "      <td>0</td>\n",
              "      <td>0</td>\n",
              "      <td>0</td>\n",
              "      <td>0</td>\n",
              "      <td>0</td>\n",
              "      <td>1</td>\n",
              "    </tr>\n",
              "    <tr>\n",
              "      <th>2</th>\n",
              "      <td>2019-12-05</td>\n",
              "      <td>504</td>\n",
              "      <td>1</td>\n",
              "      <td>0</td>\n",
              "      <td>0</td>\n",
              "      <td>0</td>\n",
              "      <td>0</td>\n",
              "      <td>0</td>\n",
              "      <td>0</td>\n",
              "      <td>1</td>\n",
              "      <td>...</td>\n",
              "      <td>0</td>\n",
              "      <td>0</td>\n",
              "      <td>0</td>\n",
              "      <td>0</td>\n",
              "      <td>0</td>\n",
              "      <td>0</td>\n",
              "      <td>0</td>\n",
              "      <td>0</td>\n",
              "      <td>0</td>\n",
              "      <td>1</td>\n",
              "    </tr>\n",
              "    <tr>\n",
              "      <th>3</th>\n",
              "      <td>2019-12-05</td>\n",
              "      <td>504</td>\n",
              "      <td>1</td>\n",
              "      <td>0</td>\n",
              "      <td>0</td>\n",
              "      <td>0</td>\n",
              "      <td>0</td>\n",
              "      <td>0</td>\n",
              "      <td>0</td>\n",
              "      <td>1</td>\n",
              "      <td>...</td>\n",
              "      <td>0</td>\n",
              "      <td>0</td>\n",
              "      <td>0</td>\n",
              "      <td>0</td>\n",
              "      <td>0</td>\n",
              "      <td>0</td>\n",
              "      <td>0</td>\n",
              "      <td>0</td>\n",
              "      <td>0</td>\n",
              "      <td>1</td>\n",
              "    </tr>\n",
              "    <tr>\n",
              "      <th>4</th>\n",
              "      <td>2019-12-05</td>\n",
              "      <td>192</td>\n",
              "      <td>1</td>\n",
              "      <td>0</td>\n",
              "      <td>0</td>\n",
              "      <td>0</td>\n",
              "      <td>0</td>\n",
              "      <td>0</td>\n",
              "      <td>0</td>\n",
              "      <td>1</td>\n",
              "      <td>...</td>\n",
              "      <td>0</td>\n",
              "      <td>0</td>\n",
              "      <td>0</td>\n",
              "      <td>0</td>\n",
              "      <td>0</td>\n",
              "      <td>0</td>\n",
              "      <td>0</td>\n",
              "      <td>0</td>\n",
              "      <td>0</td>\n",
              "      <td>1</td>\n",
              "    </tr>\n",
              "    <tr>\n",
              "      <th>5</th>\n",
              "      <td>2019-12-06</td>\n",
              "      <td>65</td>\n",
              "      <td>1</td>\n",
              "      <td>0</td>\n",
              "      <td>0</td>\n",
              "      <td>0</td>\n",
              "      <td>0</td>\n",
              "      <td>0</td>\n",
              "      <td>0</td>\n",
              "      <td>1</td>\n",
              "      <td>...</td>\n",
              "      <td>0</td>\n",
              "      <td>0</td>\n",
              "      <td>0</td>\n",
              "      <td>0</td>\n",
              "      <td>0</td>\n",
              "      <td>0</td>\n",
              "      <td>0</td>\n",
              "      <td>0</td>\n",
              "      <td>0</td>\n",
              "      <td>1</td>\n",
              "    </tr>\n",
              "    <tr>\n",
              "      <th>6</th>\n",
              "      <td>2019-12-06</td>\n",
              "      <td>1848</td>\n",
              "      <td>1</td>\n",
              "      <td>0</td>\n",
              "      <td>0</td>\n",
              "      <td>0</td>\n",
              "      <td>0</td>\n",
              "      <td>0</td>\n",
              "      <td>0</td>\n",
              "      <td>1</td>\n",
              "      <td>...</td>\n",
              "      <td>0</td>\n",
              "      <td>0</td>\n",
              "      <td>0</td>\n",
              "      <td>0</td>\n",
              "      <td>0</td>\n",
              "      <td>0</td>\n",
              "      <td>0</td>\n",
              "      <td>0</td>\n",
              "      <td>0</td>\n",
              "      <td>1</td>\n",
              "    </tr>\n",
              "    <tr>\n",
              "      <th>7</th>\n",
              "      <td>2019-12-06</td>\n",
              "      <td>1995</td>\n",
              "      <td>1</td>\n",
              "      <td>0</td>\n",
              "      <td>0</td>\n",
              "      <td>0</td>\n",
              "      <td>0</td>\n",
              "      <td>0</td>\n",
              "      <td>0</td>\n",
              "      <td>1</td>\n",
              "      <td>...</td>\n",
              "      <td>0</td>\n",
              "      <td>0</td>\n",
              "      <td>0</td>\n",
              "      <td>1</td>\n",
              "      <td>0</td>\n",
              "      <td>0</td>\n",
              "      <td>0</td>\n",
              "      <td>0</td>\n",
              "      <td>0</td>\n",
              "      <td>1</td>\n",
              "    </tr>\n",
              "    <tr>\n",
              "      <th>8</th>\n",
              "      <td>2019-12-06</td>\n",
              "      <td>98</td>\n",
              "      <td>1</td>\n",
              "      <td>0</td>\n",
              "      <td>0</td>\n",
              "      <td>0</td>\n",
              "      <td>0</td>\n",
              "      <td>0</td>\n",
              "      <td>0</td>\n",
              "      <td>1</td>\n",
              "      <td>...</td>\n",
              "      <td>0</td>\n",
              "      <td>0</td>\n",
              "      <td>0</td>\n",
              "      <td>0</td>\n",
              "      <td>0</td>\n",
              "      <td>0</td>\n",
              "      <td>0</td>\n",
              "      <td>1</td>\n",
              "      <td>0</td>\n",
              "      <td>1</td>\n",
              "    </tr>\n",
              "    <tr>\n",
              "      <th>9</th>\n",
              "      <td>2019-12-09</td>\n",
              "      <td>264</td>\n",
              "      <td>4</td>\n",
              "      <td>0</td>\n",
              "      <td>0</td>\n",
              "      <td>0</td>\n",
              "      <td>0</td>\n",
              "      <td>0</td>\n",
              "      <td>1</td>\n",
              "      <td>0</td>\n",
              "      <td>...</td>\n",
              "      <td>0</td>\n",
              "      <td>0</td>\n",
              "      <td>0</td>\n",
              "      <td>0</td>\n",
              "      <td>0</td>\n",
              "      <td>0</td>\n",
              "      <td>0</td>\n",
              "      <td>0</td>\n",
              "      <td>0</td>\n",
              "      <td>1</td>\n",
              "    </tr>\n",
              "  </tbody>\n",
              "</table>\n",
              "<p>10 rows × 33 columns</p>\n",
              "</div>"
            ],
            "text/plain": [
              "        Date  Order Quantity  Trend  Client_c10  Client_c2  Client_c3  \\\n",
              "0 2019-12-05             660      1           0          0          0   \n",
              "1 2019-12-05             297      1           0          0          0   \n",
              "2 2019-12-05             504      1           0          0          0   \n",
              "3 2019-12-05             504      1           0          0          0   \n",
              "4 2019-12-05             192      1           0          0          0   \n",
              "5 2019-12-06              65      1           0          0          0   \n",
              "6 2019-12-06            1848      1           0          0          0   \n",
              "7 2019-12-06            1995      1           0          0          0   \n",
              "8 2019-12-06              98      1           0          0          0   \n",
              "9 2019-12-09             264      4           0          0          0   \n",
              "\n",
              "   Client_c4  Client_c5  Client_c6  Client_c7  ...  Material_12320670  \\\n",
              "0          0          0          0          1  ...                  0   \n",
              "1          0          0          0          1  ...                  0   \n",
              "2          0          0          0          1  ...                  0   \n",
              "3          0          0          0          1  ...                  0   \n",
              "4          0          0          0          1  ...                  0   \n",
              "5          0          0          0          1  ...                  0   \n",
              "6          0          0          0          1  ...                  0   \n",
              "7          0          0          0          1  ...                  0   \n",
              "8          0          0          0          1  ...                  0   \n",
              "9          0          0          1          0  ...                  0   \n",
              "\n",
              "   Material_12321895  Material_12321896  Material_12322779  Material_12365978  \\\n",
              "0                  0                  0                  0                  0   \n",
              "1                  0                  0                  0                  0   \n",
              "2                  0                  0                  0                  0   \n",
              "3                  0                  0                  0                  0   \n",
              "4                  0                  0                  0                  0   \n",
              "5                  0                  0                  0                  0   \n",
              "6                  0                  0                  0                  0   \n",
              "7                  0                  0                  1                  0   \n",
              "8                  0                  0                  0                  0   \n",
              "9                  0                  0                  0                  0   \n",
              "\n",
              "   Material_12395525  Material_12396696  Material_12404641  Month_2  Month_12  \n",
              "0                  0                  0                  0        0         1  \n",
              "1                  0                  0                  0        0         1  \n",
              "2                  0                  0                  0        0         1  \n",
              "3                  0                  0                  0        0         1  \n",
              "4                  0                  0                  0        0         1  \n",
              "5                  0                  0                  0        0         1  \n",
              "6                  0                  0                  0        0         1  \n",
              "7                  0                  0                  0        0         1  \n",
              "8                  0                  0                  1        0         1  \n",
              "9                  0                  0                  0        0         1  \n",
              "\n",
              "[10 rows x 33 columns]"
            ]
          },
          "metadata": {
            "tags": []
          },
          "execution_count": 76
        }
      ]
    },
    {
      "cell_type": "code",
      "metadata": {
        "id": "QXdHrRk_5DEp",
        "outputId": "0ae14eb9-5957-446d-9b8e-d9d1be3911c7"
      },
      "source": [
        "#dfdummy = pd.get_dummies(df, columns=['Client',\"Material\", 'Month'],drop_first=True)\n",
        "dfdummy.columns"
      ],
      "execution_count": null,
      "outputs": [
        {
          "output_type": "execute_result",
          "data": {
            "text/plain": [
              "Index(['Date', 'Order Quantity', 'Trend', 'Client_c10', 'Client_c2',\n",
              "       'Client_c3', 'Client_c4', 'Client_c5', 'Client_c6', 'Client_c7',\n",
              "       'Client_c8', 'Client_c9', 'Material_11000858', 'Material_11001186',\n",
              "       'Material_12042081', 'Material_12160666', 'Material_12222902',\n",
              "       'Material_12246740', 'Material_12271469', 'Material_12293768',\n",
              "       'Material_12293783', 'Material_12320618', 'Material_12320619',\n",
              "       'Material_12320670', 'Material_12321895', 'Material_12321896',\n",
              "       'Material_12322779', 'Material_12365978', 'Material_12395525',\n",
              "       'Material_12396696', 'Material_12404641', 'Month_2', 'Month_12'],\n",
              "      dtype='object')"
            ]
          },
          "metadata": {
            "tags": []
          },
          "execution_count": 77
        }
      ]
    },
    {
      "cell_type": "code",
      "metadata": {
        "id": "5nF3-YZe5DEq"
      },
      "source": [
        "import statsmodels.api as sm\n",
        "dfdummy = pd.get_dummies(df, columns=['Client',\"Material\", 'Month'],drop_first=True)"
      ],
      "execution_count": null,
      "outputs": []
    },
    {
      "cell_type": "code",
      "metadata": {
        "id": "4WacMRUq5DEq",
        "outputId": "0641da47-187c-4df4-eadf-bcf0f833a48c"
      },
      "source": [
        "var1 = ['Trend', 'Client_c10', 'Client_c2',\n",
        "       'Client_c3', 'Client_c4', 'Client_c5', 'Client_c6', 'Client_c7',\n",
        "       'Client_c8', 'Client_c9', 'Material_11000858', 'Material_11001186',\n",
        "       'Material_12042081', 'Material_12160666', 'Material_12222902',\n",
        "       'Material_12246740', 'Material_12271469', 'Material_12293768',\n",
        "       'Material_12293783', 'Material_12320618', 'Material_12320619',\n",
        "       'Material_12320670', 'Material_12321895', 'Material_12321896',\n",
        "       'Material_12322779', 'Material_12365978', 'Material_12395525',\n",
        "       'Material_12396696', 'Material_12404641', 'Month_2', 'Month_12']\n",
        "X = sm.add_constant(dfdummy[var1]) # sm is used from the Statsmodel library \n",
        "Y = dfdummy['Order Quantity']\n",
        "est = sm.OLS(Y, X)                 # Assigning to est variable to generate the Ordinary List Squares of X and Y\n",
        "est2 = est.fit()\n",
        "print(est2.summary())"
      ],
      "execution_count": null,
      "outputs": [
        {
          "output_type": "stream",
          "text": [
            "                            OLS Regression Results                            \n",
            "==============================================================================\n",
            "Dep. Variable:         Order Quantity   R-squared:                       0.522\n",
            "Model:                            OLS   Adj. R-squared:                  0.513\n",
            "Method:                 Least Squares   F-statistic:                     60.48\n",
            "Date:                Sat, 18 Jul 2020   Prob (F-statistic):          5.73e-241\n",
            "Time:                        07:53:05   Log-Likelihood:                -13299.\n",
            "No. Observations:                1692   AIC:                         2.666e+04\n",
            "Df Residuals:                    1661   BIC:                         2.683e+04\n",
            "Df Model:                          30                                         \n",
            "Covariance Type:            nonrobust                                         \n",
            "=====================================================================================\n",
            "                        coef    std err          t      P>|t|      [0.025      0.975]\n",
            "-------------------------------------------------------------------------------------\n",
            "const               230.2373    113.311      2.032      0.042       7.989     452.486\n",
            "Trend                 0.2365      2.046      0.116      0.908      -3.777       4.250\n",
            "Client_c10           67.1964     70.375      0.955      0.340     -70.837     205.229\n",
            "Client_c2             6.5920     49.759      0.132      0.895     -91.005     104.189\n",
            "Client_c3           -72.6913     48.971     -1.484      0.138    -168.743      23.361\n",
            "Client_c4          1162.0442     78.071     14.884      0.000    1008.915    1315.173\n",
            "Client_c5           130.4881     70.226      1.858      0.063      -7.252     268.228\n",
            "Client_c6            27.4165     67.388      0.407      0.684    -104.759     159.592\n",
            "Client_c7           102.5844     60.738      1.689      0.091     -16.547     221.715\n",
            "Client_c8           177.0998     69.148      2.561      0.011      41.473     312.726\n",
            "Client_c9          1.194e+04    322.924     36.981      0.000    1.13e+04    1.26e+04\n",
            "Material_11000858   -61.0381     82.875     -0.737      0.462    -223.588     101.512\n",
            "Material_11001186    -7.3776     84.624     -0.087      0.931    -173.359     158.604\n",
            "Material_12042081   -39.6663     82.405     -0.481      0.630    -201.295     121.963\n",
            "Material_12160666  -231.8927    453.548     -0.511      0.609   -1121.478     657.693\n",
            "Material_12222902   -88.5667     77.288     -1.146      0.252    -240.159      63.025\n",
            "Material_12246740  -205.8261     95.802     -2.148      0.032    -393.731     -17.921\n",
            "Material_12271469   264.9505     84.668      3.129      0.002      98.884     431.017\n",
            "Material_12293768   -55.4686     86.723     -0.640      0.523    -225.566     114.628\n",
            "Material_12293783   -52.4839     82.790     -0.634      0.526    -214.868     109.900\n",
            "Material_12320618   108.5261     88.285      1.229      0.219     -64.636     281.688\n",
            "Material_12320619    75.6530     87.882      0.861      0.389     -96.719     248.025\n",
            "Material_12320670    64.9555     88.754      0.732      0.464    -109.126     239.037\n",
            "Material_12321895  1315.1094    144.150      9.123      0.000    1032.375    1597.844\n",
            "Material_12321896   643.3404    143.624      4.479      0.000     361.637     925.044\n",
            "Material_12322779   157.3671     87.295      1.803      0.072     -13.852     328.586\n",
            "Material_12365978  -341.8255    109.828     -3.112      0.002    -557.242    -126.409\n",
            "Material_12395525    20.3714     84.745      0.240      0.810    -145.846     186.589\n",
            "Material_12396696  -454.5802     98.933     -4.595      0.000    -648.627    -260.534\n",
            "Material_12404641     3.5625     87.385      0.041      0.967    -167.834     174.959\n",
            "Month_2             -19.0564     61.703     -0.309      0.757    -140.080     101.967\n",
            "Month_12             42.1493     67.931      0.620      0.535     -91.090     175.389\n",
            "==============================================================================\n",
            "Omnibus:                     1143.321   Durbin-Watson:                   1.839\n",
            "Prob(Omnibus):                  0.000   Jarque-Bera (JB):          1551722.457\n",
            "Skew:                           1.648   Prob(JB):                         0.00\n",
            "Kurtosis:                     151.322   Cond. No.                     1.07e+16\n",
            "==============================================================================\n",
            "\n",
            "Warnings:\n",
            "[1] Standard Errors assume that the covariance matrix of the errors is correctly specified.\n",
            "[2] The smallest eigenvalue is 4.17e-26. This might indicate that there are\n",
            "strong multicollinearity problems or that the design matrix is singular.\n"
          ],
          "name": "stdout"
        }
      ]
    },
    {
      "cell_type": "code",
      "metadata": {
        "id": "v5Skdkql5DEr",
        "outputId": "04caaf16-fa0e-465a-8ce7-27f237410e06"
      },
      "source": [
        "#Plotting the Data and Predicted OLS results\n",
        "\n",
        "nsample=1692\n",
        "x = np.linspace(0, 20, nsample)\n",
        "prstd, iv_l, iv_u = wls_prediction_std(est2) #weighted least square regression(wls)\n",
        "fig= plt.subplots(figsize=(9,7))\n",
        "plt.plot(x, Y, 'b--', label='Data')\n",
        "plt.plot(x, est2.fittedvalues, 'r--.', label='Predicted')\n",
        "plt.plot(x, iv_u, 'r--')\n",
        "plt.plot(x, iv_l, 'r--')\n",
        "plt.legend(loc='best');"
      ],
      "execution_count": null,
      "outputs": [
        {
          "output_type": "display_data",
          "data": {
            "image/png": "[encoded data removed]",
            "text/plain": [
              "<Figure size 648x504 with 1 Axes>"
            ]
          },
          "metadata": {
            "tags": [],
            "needs_background": "light"
          }
        }
      ]
    },
    {
      "cell_type": "code",
      "metadata": {
        "id": "wcHbJN7Q5DEs",
        "outputId": "ead30030-4af8-4364-9fd3-9932e06a332a"
      },
      "source": [
        "# Creating user inputs\n",
        "\n",
        "d = input(\"Enter a date in YYYY-MM-DD format\")\n",
        "c = input(\"Enter Client : \")\n",
        "m = input(\"Enter Material : \")\n",
        "df = pd.DataFrame({\"Date\": d, \"Client\": c,\"Material\": m}, index=[0])\n",
        "df"
      ],
      "execution_count": null,
      "outputs": [
        {
          "output_type": "stream",
          "text": [
            "Enter a date in YYYY-MM-DD format2021-01-27\n",
            "Enter Client : c9\n",
            "Enter Material : 12293768\n"
          ],
          "name": "stdout"
        },
        {
          "output_type": "execute_result",
          "data": {
            "text/html": [
              "<div>\n",
              "<style scoped>\n",
              "    .dataframe tbody tr th:only-of-type {\n",
              "        vertical-align: middle;\n",
              "    }\n",
              "\n",
              "    .dataframe tbody tr th {\n",
              "        vertical-align: top;\n",
              "    }\n",
              "\n",
              "    .dataframe thead th {\n",
              "        text-align: right;\n",
              "    }\n",
              "</style>\n",
              "<table border=\"1\" class=\"dataframe\">\n",
              "  <thead>\n",
              "    <tr style=\"text-align: right;\">\n",
              "      <th></th>\n",
              "      <th>Date</th>\n",
              "      <th>Client</th>\n",
              "      <th>Material</th>\n",
              "    </tr>\n",
              "  </thead>\n",
              "  <tbody>\n",
              "    <tr>\n",
              "      <th>0</th>\n",
              "      <td>2021-01-27</td>\n",
              "      <td>c9</td>\n",
              "      <td>12293768</td>\n",
              "    </tr>\n",
              "  </tbody>\n",
              "</table>\n",
              "</div>"
            ],
            "text/plain": [
              "         Date Client  Material\n",
              "0  2021-01-27     c9  12293768"
            ]
          },
          "metadata": {
            "tags": []
          },
          "execution_count": 81
        }
      ]
    },
    {
      "cell_type": "code",
      "metadata": {
        "id": "5msSBNsC5DEt"
      },
      "source": [
        "year, month, day = map(int, d.split('-'))\n",
        "date1 = datetime.date(year, month, day)"
      ],
      "execution_count": null,
      "outputs": []
    },
    {
      "cell_type": "code",
      "metadata": {
        "id": "ejPs0E8R5DEt",
        "outputId": "541e1be3-e194-4e64-8fae-734cad27dbde"
      },
      "source": [
        "date1"
      ],
      "execution_count": null,
      "outputs": [
        {
          "output_type": "execute_result",
          "data": {
            "text/plain": [
              "datetime.date(2021, 1, 27)"
            ]
          },
          "metadata": {
            "tags": []
          },
          "execution_count": 83
        }
      ]
    },
    {
      "cell_type": "code",
      "metadata": {
        "id": "cVfUfgTw5DEu"
      },
      "source": [
        "from datetime import date\n",
        "start_date = date(2019, 5, 12)"
      ],
      "execution_count": null,
      "outputs": []
    },
    {
      "cell_type": "code",
      "metadata": {
        "id": "xlV12X0j5DEu"
      },
      "source": [
        "trend = (date1-start_date).days"
      ],
      "execution_count": null,
      "outputs": []
    },
    {
      "cell_type": "code",
      "metadata": {
        "id": "VPksUFwx5DEu"
      },
      "source": [
        "month = date1.month"
      ],
      "execution_count": null,
      "outputs": []
    },
    {
      "cell_type": "code",
      "metadata": {
        "id": "aow8kPLJ5DEv",
        "outputId": "b1738aee-fa0e-40e1-839e-48efa7f62a0e"
      },
      "source": [
        "# Root Mean Squared Error to find the accuracy of the prediction\n",
        "\n",
        "print(\"rsquared\\n\",est2.rsquared)"
      ],
      "execution_count": null,
      "outputs": [
        {
          "output_type": "stream",
          "text": [
            "rsquared\n",
            " 0.52206111816398\n"
          ],
          "name": "stdout"
        }
      ]
    },
    {
      "cell_type": "code",
      "metadata": {
        "id": "cXMLJVCl5DEv",
        "outputId": "a3b77edd-2809-4056-e408-eddb590957ab"
      },
      "source": [
        "ypred = est2.predict(X)    #Prediction\n",
        "print(ypred)"
      ],
      "execution_count": null,
      "outputs": [
        {
          "output_type": "stream",
          "text": [
            "0       375.207493\n",
            "1       314.169363\n",
            "2       367.829918\n",
            "3       335.541215\n",
            "4       286.640811\n",
            "           ...    \n",
            "1687    233.900518\n",
            "1688    148.363318\n",
            "1689    422.597169\n",
            "1690    105.162726\n",
            "1691    178.018051\n",
            "Length: 1692, dtype: float64\n"
          ],
          "name": "stdout"
        }
      ]
    },
    {
      "cell_type": "code",
      "metadata": {
        "id": "EBZXFMgb5DEw"
      },
      "source": [
        "xpred = (date1-start_date).days    #Predicting the order quantity on particular date for particular client and particular material"
      ],
      "execution_count": null,
      "outputs": []
    },
    {
      "cell_type": "code",
      "metadata": {
        "id": "A13F5k7u5DEw",
        "outputId": "f57c9b4a-1238-4abe-c082-a10febcce746"
      },
      "source": [
        "print (xpred)"
      ],
      "execution_count": null,
      "outputs": [
        {
          "output_type": "stream",
          "text": [
            "626\n"
          ],
          "name": "stdout"
        }
      ]
    },
    {
      "cell_type": "markdown",
      "metadata": {
        "id": "zFvY8J7n5DEx"
      },
      "source": [
        ""
      ]
    },
    {
      "cell_type": "markdown",
      "metadata": {
        "id": "5xiov_Kb5DEx"
      },
      "source": [
        "EXPLANATION AND VISUALIZATION OF DATA:\n",
        "\n",
        "The given data shows that we have clients ranging from 1 to 10 who ordered different materials with given id at different dates. The data provided is from December 2019 to February 2020, on which we were supposed to do the forecast for the order quantity ordered by a particular client at a given date. The data are given shows very random values of order quantity along with many duplicated values. Therefore, we removed the 325 duplicated values we got and forecasted on remaining 2448 values of data. Also, we observed that on a particular day, the same client ordered the same material with different order quantity while some clients didn't order at all. Therefore, taking aggregate at that point of all the given materials and clients if needed, we analyzed the data. As seen, the graph between date versus client, date versus given material, client versus material, OLS regression and data, train, and test, and plotting the predicted values from the winters holt method. We can see that date versus client graph, date versus material graph shows a similar kind of trend where the design repeats itself after a particular interval. Also, the graph of client versus material also shows how clients have ordered particular material in a pattern formed. The plot of OLS versus the data given indicates the predicted values with root mean squared error from the OLS regression model as 52%. While in Winter's Holt's method as we divided the data into test and train that is 80% assigned to train and 20% to test we can see the difference as train data has the values from 2019 December when more quantity was ordered and the test has data where the end of march the quantity ordered was somewhat higher than in between. This clearly shows how the ordered quantity varied from December to March. The predicted values graph shows similar results where the next year the same kind of trend will be obtained with some changes with respect to given data. Thus by both the methods the predicted values obtained are with some difference. Also, the multivariable regression methods allow the user inputs in order to predict the particular data."
      ]
    },
    {
      "cell_type": "markdown",
      "metadata": {
        "id": "JOM2Htl65DEy"
      },
      "source": [
        "EXPLANATION AND USE OF MAJOR FUNCTIONS IN CODE:\n",
        "\n",
        "The data consisted of duplicate values which were dropped for the better analysis. The exponential smoothing function was imported from the Statsmodel library. In this we used the Order Quantity from the train data specifying the particular trend, seasonal period and seasonal and fitted the model accordingly. We trained the model to predict the forecast using the test data and plotted the forecasted values by implementing Holt-Winter’s method. \n",
        "A loop was generated across the given data in order to obtain the respective values which were further utilized for the predictions. Later, dummy a function was used to select a particular data at a given point of time and the rest were assigned False (0) in order to achieve the required output from the given set of data. Ordinarily Least Squares (OLS) was used to define the relation between our multivariable. Fit function was used to adjust weights for data to obtain better accuracy. Weighted least square regression (wls) was used to plot the OLS results. Information about Date, Client and Material was obtained from the user input to achieve the forecast of the respective input. The predict function was used to forecast using the obtained trained OLS model.  "
      ]
    },
    {
      "cell_type": "markdown",
      "metadata": {
        "id": "RUNGkIXE5DEz"
      },
      "source": [
        "SUMMARY\n",
        "\n",
        "Forecasting is crucial as it helps to ensure that one has enough supply on hand to meet the demands. An overestimation of demand may lead to excessive inventory and high costs. Whereas, underestimating demand means the customers' needs won't be satisfied.\n",
        "There are mainly two types of forecasting methods, one is qualitative forecasting method, and another is the quantitative forecasting method.\n",
        "The qualitative forecasting method uses subjective inputs and the quantitative forecasting method consists of time series method. \n",
        "In this project, the data given to us requires to follow the Time-Series analysis method. It uses the chronologically arranged data for the forecasting. Time-series method helps in forecasting by taking the starting period from the past and helps in predicting the results in the future.\n",
        "The Multivariable Regression Analysis consists of more than one time-dependent variable. These variables are dependent on past values and are inter-dependent on each other as well. These dependencies are used to forecast future results.\n",
        "The Multivariable Regression Analysis is similar to Holt-Winter's in terms of capturing the trend and seasonality. However, the difference between the two methods is visible in the results of their forecasts. The Multivariable Regression Analysis is suitable for short-term forecastings like daily, weekly or monthly short-term forecastings. On the other hand, Holt-Winter's method is more suitable for long-term forecastings like monthly or yearly long-term forecastings.\n",
        "These two methods are apt for the given-data because there are two independent variables; Clients and Materials. Also, the trend is non-linear, and the selection of the appropriate trend will be based on the best result obtained after the incorporation of each trend in the data series."
      ]
    }
  ]
}